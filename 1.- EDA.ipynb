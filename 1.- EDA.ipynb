{
 "cells": [
  {
   "cell_type": "code",
   "execution_count": 12,
   "metadata": {},
   "outputs": [],
   "source": [
    "import gzip\n",
    "import json\n",
    "import pandas as pd\n",
    "import matplotlib.pyplot as plt\n",
    "import random\n",
    "from collections import Counter\n",
    "from urllib.request import urlretrieve\n"
   ]
  },
  {
   "cell_type": "markdown",
   "metadata": {},
   "source": [
    "# 1.- DESCARGA Y LECTURA DE DATOS"
   ]
  },
  {
   "cell_type": "code",
   "execution_count": 13,
   "metadata": {},
   "outputs": [
    {
     "data": {
      "text/plain": [
       "('reviews_Video_Games_5.json.gz', <http.client.HTTPMessage at 0x21b14cdecd0>)"
      ]
     },
     "execution_count": 13,
     "metadata": {},
     "output_type": "execute_result"
    }
   ],
   "source": [
    "url = 'http://snap.stanford.edu/data/amazon/productGraph/categoryFiles'\n",
    "filename = 'reviews_Video_Games_5.json.gz'\n",
    "urlretrieve(url, filename)"
   ]
  },
  {
   "cell_type": "code",
   "execution_count": 14,
   "metadata": {},
   "outputs": [],
   "source": [
    "data = []\n",
    "\n",
    "max_reviews = 100000\n",
    "\n",
    "with gzip.open('./reviews_Video_Games_5.json.gz', 'rb') as f:\n",
    "    for i,l in enumerate(f):\n",
    "        if i == max_reviews:\n",
    "            break\n",
    "        data.append(json.loads(l.strip()))\n",
    "        \n",
    "df = pd.DataFrame.from_dict(data)"
   ]
  },
  {
   "cell_type": "markdown",
   "metadata": {},
   "source": [
    "Comprobamos cuantos valores ha descargado"
   ]
  },
  {
   "cell_type": "code",
   "execution_count": 15,
   "metadata": {},
   "outputs": [
    {
     "name": "stdout",
     "output_type": "stream",
     "text": [
      "Reviews descargados: 100000\n"
     ]
    }
   ],
   "source": [
    "print(f'Reviews descargados: {len(df)}')"
   ]
  },
  {
   "cell_type": "markdown",
   "metadata": {},
   "source": [
    "Y miramos una muestra de una de las reviews"
   ]
  },
  {
   "cell_type": "code",
   "execution_count": 16,
   "metadata": {},
   "outputs": [
    {
     "data": {
      "text/plain": [
       "reviewerID                                            API8Q4Y20969U\n",
       "asin                                                     B00000I1BT\n",
       "reviewerName                                         RPG king \"KGM\"\n",
       "helpful                                                      [5, 6]\n",
       "reviewText        Doom and Quake have been two of the most incre...\n",
       "overall                                                         5.0\n",
       "summary                     Now this is where the legend all began.\n",
       "unixReviewTime                                           1132099200\n",
       "reviewTime                                              11 16, 2005\n",
       "Name: 1185, dtype: object"
      ]
     },
     "execution_count": 16,
     "metadata": {},
     "output_type": "execute_result"
    }
   ],
   "source": [
    "df.loc[random.randint(0, len(df))]\n"
   ]
  },
  {
   "cell_type": "markdown",
   "metadata": {},
   "source": [
    "Al ver estos datos, nos quedamos solo con dos campos, \"ReviewText\" y \"Overall\""
   ]
  },
  {
   "cell_type": "code",
   "execution_count": 17,
   "metadata": {},
   "outputs": [
    {
     "data": {
      "text/html": [
       "<div>\n",
       "<style scoped>\n",
       "    .dataframe tbody tr th:only-of-type {\n",
       "        vertical-align: middle;\n",
       "    }\n",
       "\n",
       "    .dataframe tbody tr th {\n",
       "        vertical-align: top;\n",
       "    }\n",
       "\n",
       "    .dataframe thead th {\n",
       "        text-align: right;\n",
       "    }\n",
       "</style>\n",
       "<table border=\"1\" class=\"dataframe\">\n",
       "  <thead>\n",
       "    <tr style=\"text-align: right;\">\n",
       "      <th></th>\n",
       "      <th>0</th>\n",
       "      <th>1</th>\n",
       "      <th>2</th>\n",
       "      <th>3</th>\n",
       "      <th>4</th>\n",
       "    </tr>\n",
       "  </thead>\n",
       "  <tbody>\n",
       "    <tr>\n",
       "      <th>reviewText</th>\n",
       "      <td>Installing the game was a struggle (because of...</td>\n",
       "      <td>If you like rally cars get this game you will ...</td>\n",
       "      <td>1st shipment received a book instead of the ga...</td>\n",
       "      <td>I got this version instead of the PS3 version,...</td>\n",
       "      <td>I had Dirt 2 on Xbox 360 and it was an okay ga...</td>\n",
       "    </tr>\n",
       "    <tr>\n",
       "      <th>overall</th>\n",
       "      <td>1.0</td>\n",
       "      <td>4.0</td>\n",
       "      <td>1.0</td>\n",
       "      <td>3.0</td>\n",
       "      <td>4.0</td>\n",
       "    </tr>\n",
       "  </tbody>\n",
       "</table>\n",
       "</div>"
      ],
      "text/plain": [
       "                                                            0  \\\n",
       "reviewText  Installing the game was a struggle (because of...   \n",
       "overall                                                   1.0   \n",
       "\n",
       "                                                            1  \\\n",
       "reviewText  If you like rally cars get this game you will ...   \n",
       "overall                                                   4.0   \n",
       "\n",
       "                                                            2  \\\n",
       "reviewText  1st shipment received a book instead of the ga...   \n",
       "overall                                                   1.0   \n",
       "\n",
       "                                                            3  \\\n",
       "reviewText  I got this version instead of the PS3 version,...   \n",
       "overall                                                   3.0   \n",
       "\n",
       "                                                            4  \n",
       "reviewText  I had Dirt 2 on Xbox 360 and it was an okay ga...  \n",
       "overall                                                   4.0  "
      ]
     },
     "execution_count": 17,
     "metadata": {},
     "output_type": "execute_result"
    }
   ],
   "source": [
    "df_reviews = df[['reviewText', 'overall']]\n",
    "df_reviews.head().T\n",
    "\n"
   ]
  },
  {
   "cell_type": "markdown",
   "metadata": {},
   "source": [
    "## Analisis del corpus"
   ]
  },
  {
   "cell_type": "markdown",
   "metadata": {},
   "source": [
    "### 1.- Distribución de las puntuaciones"
   ]
  },
  {
   "cell_type": "code",
   "execution_count": 18,
   "metadata": {},
   "outputs": [
    {
     "data": {
      "text/plain": [
       "<Axes: xlabel='overall'>"
      ]
     },
     "execution_count": 18,
     "metadata": {},
     "output_type": "execute_result"
    },
    {
     "data": {
      "image/png": "[encoded data removed]",
      "text/plain": [
       "<Figure size 640x480 with 1 Axes>"
      ]
     },
     "metadata": {},
     "output_type": "display_data"
    }
   ],
   "source": [
    "#Sacamos un plot con la distribución de las puntuaciones\n",
    "df_reviews['overall'].value_counts().plot(kind='bar')"
   ]
  },
  {
   "cell_type": "code",
   "execution_count": 19,
   "metadata": {},
   "outputs": [
    {
     "name": "stdout",
     "output_type": "stream",
     "text": [
      "overall\n",
      "5.0    50497\n",
      "4.0    25000\n",
      "3.0    12574\n",
      "2.0     6126\n",
      "1.0     5803\n",
      "Name: count, dtype: int64\n"
     ]
    }
   ],
   "source": [
    "print(df_reviews['overall'].value_counts())"
   ]
  },
  {
   "cell_type": "markdown",
   "metadata": {},
   "source": [
    "### 2.- Distribución de las puntuaciones en +/-"
   ]
  },
  {
   "cell_type": "markdown",
   "metadata": {},
   "source": [
    "Suponemos que las puntuaciones entre 1 y 3 las consideramos negativas y las puntuaciones superiores son positivas"
   ]
  },
  {
   "cell_type": "code",
   "execution_count": 20,
   "metadata": {},
   "outputs": [
    {
     "name": "stderr",
     "output_type": "stream",
     "text": [
      "C:\\Users\\aleja\\AppData\\Local\\Temp\\ipykernel_27024\\3473181598.py:1: SettingWithCopyWarning: \n",
      "A value is trying to be set on a copy of a slice from a DataFrame.\n",
      "Try using .loc[row_indexer,col_indexer] = value instead\n",
      "\n",
      "See the caveats in the documentation: https://pandas.pydata.org/pandas-docs/stable/user_guide/indexing.html#returning-a-view-versus-a-copy\n",
      "  df_reviews['sentiment'] = df_reviews['overall'].apply(lambda x: 'Negativas' if x <= 3 else 'Positivas')\n"
     ]
    },
    {
     "data": {
      "text/plain": [
       "<Axes: xlabel='sentiment'>"
      ]
     },
     "execution_count": 20,
     "metadata": {},
     "output_type": "execute_result"
    },
    {
     "data": {
      "image/png": "[encoded data removed]",
      "text/plain": [
       "<Figure size 640x480 with 1 Axes>"
      ]
     },
     "metadata": {},
     "output_type": "display_data"
    }
   ],
   "source": [
    "df_reviews['sentiment'] = df_reviews['overall'].apply(lambda x: 'Negativas' if x <= 3 else 'Positivas')\n",
    "df_reviews['sentiment'].value_counts().plot(kind='bar')\n",
    "df_reviews['sentiment'].value_counts().plot(kind='bar', color=['green', 'red'])\n",
    "\n"
   ]
  },
  {
   "cell_type": "markdown",
   "metadata": {},
   "source": [
    "### 3.- Cardinalidad del corpus"
   ]
  },
  {
   "cell_type": "markdown",
   "metadata": {},
   "source": [
    "Calculamos la cantidad de palabras(antes de realizar preprocesado) del conjunto de reviews"
   ]
  },
  {
   "cell_type": "code",
   "execution_count": 21,
   "metadata": {},
   "outputs": [
    {
     "name": "stdout",
     "output_type": "stream",
     "text": [
      "Número de palabras en el vocabulario: 21508759\n"
     ]
    }
   ],
   "source": [
    "vocabulary = []\n",
    "\n",
    "for review in df_reviews['reviewText']:\n",
    "    for word in review.split():\n",
    "        vocabulary.append(word)\n",
    "\n",
    "print(f'Número de palabras en el vocabulario: {len(vocabulary)}')"
   ]
  },
  {
   "cell_type": "markdown",
   "metadata": {},
   "source": [
    "Sacamos el top 10 de palabras del corpus"
   ]
  },
  {
   "cell_type": "code",
   "execution_count": 22,
   "metadata": {},
   "outputs": [
    {
     "data": {
      "text/plain": [
       "[('the', 1054602),\n",
       " ('and', 581333),\n",
       " ('to', 554001),\n",
       " ('a', 528269),\n",
       " ('of', 441399),\n",
       " ('is', 387475),\n",
       " ('you', 345677),\n",
       " ('I', 307557),\n",
       " ('game', 268657),\n",
       " ('in', 245491)]"
      ]
     },
     "execution_count": 22,
     "metadata": {},
     "output_type": "execute_result"
    }
   ],
   "source": [
    "word_freq = Counter(vocabulary)\n",
    "word_freq.most_common(10)\n"
   ]
  },
  {
   "cell_type": "markdown",
   "metadata": {},
   "source": [
    "### 4.- Guardamos el dataframe"
   ]
  },
  {
   "cell_type": "code",
   "execution_count": 24,
   "metadata": {},
   "outputs": [],
   "source": [
    "#Guardamos df_reviews en un csv dentro de una carpeta llamada data\n",
    "df_reviews.to_csv('data/reviews.csv', index=False)"
   ]
  },
  {
   "cell_type": "markdown",
   "metadata": {},
   "source": [
    "## Conclusiones"
   ]
  },
  {
   "cell_type": "markdown",
   "metadata": {},
   "source": [
    "Como podemos observar en los diagramas de barras, existen muchas más opiniones positivas que negativas en las reviews de los videojuegos, con una diferencia bastante amplia.\n",
    "\n",
    "Con respecto al análisis de las palabras, no se pueden sacar ningún tipo de conclusión en este punto ya que las palabras que más abundan en el corpus son genéricas. Dejaremos este análisis para el próximos notebook después de realizar el preprocesado."
   ]
  },
  {
   "cell_type": "markdown",
   "metadata": {},
   "source": []
  }
 ],
 "metadata": {
  "kernelspec": {
   "display_name": ".venv",
   "language": "python",
   "name": "python3"
  },
  "language_info": {
   "codemirror_mode": {
    "name": "ipython",
    "version": 3
   },
   "file_extension": ".py",
   "mimetype": "text/x-python",
   "name": "python",
   "nbconvert_exporter": "python",
   "pygments_lexer": "ipython3",
   "version": "3.9.19"
  }
 },
 "nbformat": 4,
 "nbformat_minor": 2
}
